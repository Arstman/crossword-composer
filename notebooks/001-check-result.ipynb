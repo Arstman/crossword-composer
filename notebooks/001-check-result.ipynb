{
 "cells": [
  {
   "cell_type": "code",
   "execution_count": 45,
   "metadata": {},
   "outputs": [],
   "source": [
    "result = ['c', 'r', 'u', 'z', 'l', 'o', 'n', 'e', 'a', 'm', 'i', 'r', 'n', 'a', 't', 'o']"
   ]
  },
  {
   "cell_type": "code",
   "execution_count": 46,
   "metadata": {},
   "outputs": [
    {
     "data": {
      "text/plain": [
       "[['c', 'r', 'u', 'z'],\n",
       " ['l', 'o', 'n', 'e'],\n",
       " ['a', 'm', 'i', 'r'],\n",
       " ['n', 'a', 't', 'o']]"
      ]
     },
     "execution_count": 46,
     "metadata": {},
     "output_type": "execute_result"
    }
   ],
   "source": [
    "grid = [result[i*4: (i+1)*4] for i in range(4)]\n",
    "grid"
   ]
  },
  {
   "cell_type": "raw",
   "metadata": {},
   "source": [
    "!grep -i \"^aalii$\" /usr/share/dict/words"
   ]
  }
 ],
 "metadata": {
  "kernelspec": {
   "display_name": "Python 3",
   "language": "python",
   "name": "python3"
  },
  "language_info": {
   "codemirror_mode": {
    "name": "ipython",
    "version": 3
   },
   "file_extension": ".py",
   "mimetype": "text/x-python",
   "name": "python",
   "nbconvert_exporter": "python",
   "pygments_lexer": "ipython3",
   "version": "3.7.3"
  }
 },
 "nbformat": 4,
 "nbformat_minor": 2
}
