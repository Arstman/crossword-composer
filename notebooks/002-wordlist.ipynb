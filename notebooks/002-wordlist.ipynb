{
 "cells": [
  {
   "cell_type": "code",
   "execution_count": 1,
   "metadata": {},
   "outputs": [],
   "source": [
    "import pandas as pd"
   ]
  },
  {
   "cell_type": "code",
   "execution_count": 3,
   "metadata": {},
   "outputs": [],
   "source": [
    "v= pd.read_csv('/Users/paulbutler/Desktop/unmentionable/word2vec_full_200d_labels.tsv', delimiter='\\t')"
   ]
  },
  {
   "cell_type": "code",
   "execution_count": 6,
   "metadata": {},
   "outputs": [],
   "source": [
    "v.word[1:].to_csv('/Users/paulbutler/Desktop/crossword/words.txt', index=False, header=False)"
   ]
  },
  {
   "cell_type": "code",
   "execution_count": 7,
   "metadata": {},
   "outputs": [
    {
     "name": "stdout",
     "output_type": "stream",
     "text": [
      "aesthetic\n",
      "esther\n",
      "aesthetics\n",
      "aesthetically\n",
      "myasthenia\n",
      "eurystheus\n",
      "anaesthetic\n",
      "anaesthesia\n",
      "anesthesia\n",
      "eratosthenes\n",
      "prosthetic\n",
      "anesthetic\n",
      "anaesthetics\n",
      "callisthenes\n",
      "prosthetics\n",
      "anesthetics\n",
      "myasthenic\n",
      "kinesthetic\n",
      "esthesic\n",
      "aestheticism\n",
      "sthe\n",
      "westheimer\n",
      "esthetic\n",
      "demosthenes\n",
      "prosthesis\n",
      "cleisthenes\n",
      "synaesthesia\n"
     ]
    }
   ],
   "source": [
    "!grep -i \"sthe\"  /Users/paulbutler/Desktop/crossword/words.txt"
   ]
  }
 ],
 "metadata": {
  "kernelspec": {
   "display_name": "Python 3",
   "language": "python",
   "name": "python3"
  },
  "language_info": {
   "codemirror_mode": {
    "name": "ipython",
    "version": 3
   },
   "file_extension": ".py",
   "mimetype": "text/x-python",
   "name": "python",
   "nbconvert_exporter": "python",
   "pygments_lexer": "ipython3",
   "version": "3.7.3"
  }
 },
 "nbformat": 4,
 "nbformat_minor": 2
}
